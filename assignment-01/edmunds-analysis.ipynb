{
 "cells": [
  {
   "cell_type": "code",
   "execution_count": 33,
   "metadata": {},
   "outputs": [],
   "source": [
    "from pathlib import Path\n",
    "import pandas as pd\n",
    "import numpy as np\n",
    "from string import punctuation"
   ]
  },
  {
   "cell_type": "code",
   "execution_count": 34,
   "metadata": {},
   "outputs": [],
   "source": [
    "dataset_path = Path().absolute()"
   ]
  },
  {
   "cell_type": "code",
   "execution_count": 35,
   "metadata": {},
   "outputs": [],
   "source": [
    "def read_dataset(file_path: Path) -> pd.DataFrame :\n",
    "\n",
    "    return pd.read_csv(file_path, header = 0, names = [\"username\", \"month_year\", \"post\"])"
   ]
  },
  {
   "cell_type": "code",
   "execution_count": 36,
   "metadata": {},
   "outputs": [],
   "source": [
    "edmunds = read_dataset(dataset_path / \"edmunds_extraction.csv\")"
   ]
  },
  {
   "cell_type": "code",
   "execution_count": 37,
   "metadata": {},
   "outputs": [
    {
     "data": {
      "text/html": [
       "<div>\n",
       "<style scoped>\n",
       "    .dataframe tbody tr th:only-of-type {\n",
       "        vertical-align: middle;\n",
       "    }\n",
       "\n",
       "    .dataframe tbody tr th {\n",
       "        vertical-align: top;\n",
       "    }\n",
       "\n",
       "    .dataframe thead th {\n",
       "        text-align: right;\n",
       "    }\n",
       "</style>\n",
       "<table border=\"1\" class=\"dataframe\">\n",
       "  <thead>\n",
       "    <tr style=\"text-align: right;\">\n",
       "      <th></th>\n",
       "      <th>username</th>\n",
       "      <th>month_year</th>\n",
       "      <th>post</th>\n",
       "    </tr>\n",
       "  </thead>\n",
       "  <tbody>\n",
       "    <tr>\n",
       "      <th>0</th>\n",
       "      <td>plekto</td>\n",
       "      <td>April 2007</td>\n",
       "      <td>Of course the Buick LaCrosse qualifies. It ce...</td>\n",
       "    </tr>\n",
       "    <tr>\n",
       "      <th>1</th>\n",
       "      <td>punkr77</td>\n",
       "      <td>April 2007</td>\n",
       "      <td>One thing that drops the Maxima off my shoppi...</td>\n",
       "    </tr>\n",
       "    <tr>\n",
       "      <th>2</th>\n",
       "      <td>backy</td>\n",
       "      <td>April 2007</td>\n",
       "      <td>Good point. Another way Nissan differentiates...</td>\n",
       "    </tr>\n",
       "    <tr>\n",
       "      <th>3</th>\n",
       "      <td>lilengineerboy</td>\n",
       "      <td>April 2007</td>\n",
       "      <td>Elroy,Autocross is typically a \"course\" confi...</td>\n",
       "    </tr>\n",
       "    <tr>\n",
       "      <th>4</th>\n",
       "      <td>jeffyscott</td>\n",
       "      <td>April 2007</td>\n",
       "      <td>Like I said earlier, if BMW can have the ride...</td>\n",
       "    </tr>\n",
       "  </tbody>\n",
       "</table>\n",
       "</div>"
      ],
      "text/plain": [
       "         username  month_year  \\\n",
       "0          plekto  April 2007   \n",
       "1         punkr77  April 2007   \n",
       "2           backy  April 2007   \n",
       "3  lilengineerboy  April 2007   \n",
       "4      jeffyscott  April 2007   \n",
       "\n",
       "                                                post  \n",
       "0   Of course the Buick LaCrosse qualifies. It ce...  \n",
       "1   One thing that drops the Maxima off my shoppi...  \n",
       "2   Good point. Another way Nissan differentiates...  \n",
       "3   Elroy,Autocross is typically a \"course\" confi...  \n",
       "4   Like I said earlier, if BMW can have the ride...  "
      ]
     },
     "execution_count": 37,
     "metadata": {},
     "output_type": "execute_result"
    }
   ],
   "source": [
    "edmunds.head(5)"
   ]
  },
  {
   "cell_type": "code",
   "execution_count": 38,
   "metadata": {},
   "outputs": [
    {
     "data": {
      "text/plain": [
       "(4899, 3)"
      ]
     },
     "execution_count": 38,
     "metadata": {},
     "output_type": "execute_result"
    }
   ],
   "source": [
    "edmunds.shape"
   ]
  },
  {
   "cell_type": "code",
   "execution_count": 39,
   "metadata": {},
   "outputs": [],
   "source": [
    "models = pd.read_csv(\"models.csv\", header = 0, names = [\"brand\", \"model\"])"
   ]
  },
  {
   "cell_type": "code",
   "execution_count": 40,
   "metadata": {},
   "outputs": [
    {
     "data": {
      "text/html": [
       "<div>\n",
       "<style scoped>\n",
       "    .dataframe tbody tr th:only-of-type {\n",
       "        vertical-align: middle;\n",
       "    }\n",
       "\n",
       "    .dataframe tbody tr th {\n",
       "        vertical-align: top;\n",
       "    }\n",
       "\n",
       "    .dataframe thead th {\n",
       "        text-align: right;\n",
       "    }\n",
       "</style>\n",
       "<table border=\"1\" class=\"dataframe\">\n",
       "  <thead>\n",
       "    <tr style=\"text-align: right;\">\n",
       "      <th></th>\n",
       "      <th>brand</th>\n",
       "      <th>model</th>\n",
       "    </tr>\n",
       "  </thead>\n",
       "  <tbody>\n",
       "    <tr>\n",
       "      <th>0</th>\n",
       "      <td>acura</td>\n",
       "      <td>Legend</td>\n",
       "    </tr>\n",
       "    <tr>\n",
       "      <th>1</th>\n",
       "      <td>acura</td>\n",
       "      <td>vigor</td>\n",
       "    </tr>\n",
       "    <tr>\n",
       "      <th>2</th>\n",
       "      <td>acura</td>\n",
       "      <td>rlx</td>\n",
       "    </tr>\n",
       "    <tr>\n",
       "      <th>3</th>\n",
       "      <td>acura</td>\n",
       "      <td>ILX</td>\n",
       "    </tr>\n",
       "    <tr>\n",
       "      <th>4</th>\n",
       "      <td>acura</td>\n",
       "      <td>MDX</td>\n",
       "    </tr>\n",
       "  </tbody>\n",
       "</table>\n",
       "</div>"
      ],
      "text/plain": [
       "   brand   model\n",
       "0  acura  Legend\n",
       "1  acura   vigor\n",
       "2  acura     rlx\n",
       "3  acura     ILX\n",
       "4  acura     MDX"
      ]
     },
     "execution_count": 40,
     "metadata": {},
     "output_type": "execute_result"
    }
   ],
   "source": [
    "models.head(5)"
   ]
  },
  {
   "cell_type": "code",
   "execution_count": 41,
   "metadata": {},
   "outputs": [],
   "source": [
    "# removing any leading or trailing punctuations from the brand name column\n",
    "models['brand'] = models['brand'].apply(lambda x: x.strip(punctuation))"
   ]
  },
  {
   "cell_type": "code",
   "execution_count": 42,
   "metadata": {},
   "outputs": [],
   "source": [
    "# getting all of the unique brand names into a list\n",
    "distinct_brands: list[str] = list(models['brand'].unique())"
   ]
  },
  {
   "cell_type": "code",
   "execution_count": 43,
   "metadata": {},
   "outputs": [],
   "source": [
    "popular_brands: list[str] = [\n",
    "    \"Toyota\", \"Volkswagen\", \"Ford\", \"Honda\", \"Chevrolet\", \"BMW\", \"Mercedes-Benz\",\n",
    "    \"Nissan\", \"Audi\", \"Hyundai\", \"Lexus\", \"Kia\", \"Mazda\", \"Dodge\", \"Porsche\",\n",
    "    \"Subaru\", \"Buick\", \"Cadillac\", \"Chrysler\", \"Ferrari\", \"GMC\", \"Infiniti\",\n",
    "    \"Jaguar\", \"Jeep\", \"Land Rover\", \"Mitsubishi\", \"Acura\", \"Aston Martin\", \"Bentley\",\n",
    "    \"Rolls Royce\", \"Alfa Romeo\", \"Citroen\", \"Fiat\", \"Lamborghini\", \"Lotus\",\n",
    "    \"Maserati\", \"Mini\", \"Peugeot\", \"Renault\", \"Saab\", \"Suzuki\", \"Tesla\", \"Volvo\",\n",
    "    \"Opel\", \"Skoda\", \"Seat\", \"Daihatsu\", \"Isuzu\", \"Smart\", \"Bugatti\", \"Koenigsegg\",\n",
    "    \"Pagani\", \"Morgan\", \"TVR\", \"Lancia\", \"Genesis\", \"Rover\", \"Lincoln\", \"Scion\",\n",
    "    \"Mahindra\", \"Tata\", \"Maruti Suzuki\", \"Proton\", \"Perodua\", \"Daewoo\", \"Zotye\",\n",
    "    \"Chery\", \"Geely\", \"Dacia\", \"Holden\", \"Vauxhall\", \"SsangYong\", \"FAW\", \"BYD\",\n",
    "    \"Great Wall\", \"Karmann\", \"Panhard\", \"Haval\", \"DS Automobiles\", \"Lada\", \"SEAT\",\n",
    "    \"Ram\", \"Gumpert\", \"Spyker\", \"McLaren\", \"Hummer\", \"Pontiac\", \"Saturn\", \"Oldsmobile\",\n",
    "    \"Plymouth\", \"DeLorean\", \"Studebaker\", \"Austin\", \"Triumph\", \"MG\", \"Hillman\",\n",
    "    \"Willys\", \"Riley\", \"Simca\", \"Talbot\"\n",
    "]\n"
   ]
  },
  {
   "cell_type": "code",
   "execution_count": 44,
   "metadata": {},
   "outputs": [],
   "source": [
    "popular_brands = [x.lower() for x in popular_brands]"
   ]
  },
  {
   "cell_type": "code",
   "execution_count": 45,
   "metadata": {},
   "outputs": [],
   "source": [
    "# performing a frequency count of the brands\n",
    "\n",
    "\n",
    "# changing all user posts to lowercase\n",
    "edmunds['post'] = edmunds['post'].apply(lambda x : x.lower())\n",
    "\n",
    "# store the brand mentions in a new pandas data frame\n",
    "edmunds_brands: pd.DataFrame = pd.DataFrame(index = popular_brands, columns = ['mentions'])\n",
    "\n",
    "edmunds_brands['mentions'] = 0\n",
    "\n",
    "for brand in popular_brands:\n",
    "\n",
    "    edmunds_brands.at[brand, 'mentions'] = edmunds['post'].str.contains(brand, na = False).sum()"
   ]
  },
  {
   "cell_type": "code",
   "execution_count": 47,
   "metadata": {},
   "outputs": [],
   "source": [
    "top_10_brands = edmunds_brands.sort_values(by = 'mentions', ascending = False).head(10)"
   ]
  },
  {
   "cell_type": "code",
   "execution_count": 48,
   "metadata": {},
   "outputs": [
    {
     "data": {
      "text/html": [
       "<div>\n",
       "<style scoped>\n",
       "    .dataframe tbody tr th:only-of-type {\n",
       "        vertical-align: middle;\n",
       "    }\n",
       "\n",
       "    .dataframe tbody tr th {\n",
       "        vertical-align: top;\n",
       "    }\n",
       "\n",
       "    .dataframe thead th {\n",
       "        text-align: right;\n",
       "    }\n",
       "</style>\n",
       "<table border=\"1\" class=\"dataframe\">\n",
       "  <thead>\n",
       "    <tr style=\"text-align: right;\">\n",
       "      <th></th>\n",
       "      <th>mentions</th>\n",
       "    </tr>\n",
       "  </thead>\n",
       "  <tbody>\n",
       "    <tr>\n",
       "      <th>honda</th>\n",
       "      <td>941</td>\n",
       "    </tr>\n",
       "    <tr>\n",
       "      <th>ford</th>\n",
       "      <td>776</td>\n",
       "    </tr>\n",
       "    <tr>\n",
       "      <th>mazda</th>\n",
       "      <td>596</td>\n",
       "    </tr>\n",
       "    <tr>\n",
       "      <th>toyota</th>\n",
       "      <td>392</td>\n",
       "    </tr>\n",
       "    <tr>\n",
       "      <th>hyundai</th>\n",
       "      <td>233</td>\n",
       "    </tr>\n",
       "    <tr>\n",
       "      <th>seat</th>\n",
       "      <td>227</td>\n",
       "    </tr>\n",
       "    <tr>\n",
       "      <th>seat</th>\n",
       "      <td>227</td>\n",
       "    </tr>\n",
       "    <tr>\n",
       "      <th>nissan</th>\n",
       "      <td>227</td>\n",
       "    </tr>\n",
       "    <tr>\n",
       "      <th>ram</th>\n",
       "      <td>129</td>\n",
       "    </tr>\n",
       "    <tr>\n",
       "      <th>bmw</th>\n",
       "      <td>110</td>\n",
       "    </tr>\n",
       "  </tbody>\n",
       "</table>\n",
       "</div>"
      ],
      "text/plain": [
       "         mentions\n",
       "honda         941\n",
       "ford          776\n",
       "mazda         596\n",
       "toyota        392\n",
       "hyundai       233\n",
       "seat          227\n",
       "seat          227\n",
       "nissan        227\n",
       "ram           129\n",
       "bmw           110"
      ]
     },
     "execution_count": 48,
     "metadata": {},
     "output_type": "execute_result"
    }
   ],
   "source": [
    "top_10_brands"
   ]
  },
  {
   "cell_type": "code",
   "execution_count": null,
   "metadata": {},
   "outputs": [],
   "source": []
  }
 ],
 "metadata": {
  "kernelspec": {
   "display_name": "Python 3",
   "language": "python",
   "name": "python3"
  },
  "language_info": {
   "codemirror_mode": {
    "name": "ipython",
    "version": 3
   },
   "file_extension": ".py",
   "mimetype": "text/x-python",
   "name": "python",
   "nbconvert_exporter": "python",
   "pygments_lexer": "ipython3",
   "version": "3.11.7"
  }
 },
 "nbformat": 4,
 "nbformat_minor": 2
}
