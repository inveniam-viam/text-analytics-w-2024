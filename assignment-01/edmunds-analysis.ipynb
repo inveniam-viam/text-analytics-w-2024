{
 "cells": [
  {
   "cell_type": "markdown",
   "metadata": {},
   "source": [
    "## INSY 669 - Text Analytics\n",
    "\n",
    "### Winter 2024\n",
    "\n",
    "### Dr. Taha Havakhor\n",
    "\n",
    "### Group Assignment\n",
    "\n",
    "Submitted by:\n",
    "- Chien Chen Liew (261178093)\n",
    "- Farah Hoque (261149217)\n",
    "- Hao Hao Duong (261104689)\n",
    "- Jared Balakrishnan (261175926)\n",
    "- Seunghyun Park (260686853)\n"
   ]
  },
  {
   "cell_type": "code",
   "execution_count": 4,
   "metadata": {},
   "outputs": [],
   "source": [
    "# importing all the modules required to run this notebook\n",
    "\n",
    "\n",
    "from pathlib import Path\n",
    "import pandas as pd\n",
    "import numpy as np\n",
    "import seaborn as sns\n",
    "import matplotlib.pyplot as plt\n",
    "from string import punctuation\n",
    "from sklearn.feature_extraction.text import CountVectorizer\n",
    "from sklearn.manifold import MDS\n",
    "import re \n",
    "import spacy\n",
    "import spacy.cli\n",
    "from spacy.lang.en import English\n",
    "from spacy.lang.en import stop_words\n",
    "from nltk.tokenize import word_tokenize\n",
    "from nltk.stem import WordNetLemmatizer"
   ]
  },
  {
   "cell_type": "markdown",
   "metadata": {},
   "source": [
    "## Reading in the Datasets\n",
    "\n",
    "### Edmunds Scraping Output (stored in the dataframe *edmunds*)\n",
    "### Brand-Model dataframe (stores in the dataframe *models*)"
   ]
  },
  {
   "cell_type": "code",
   "execution_count": 5,
   "metadata": {},
   "outputs": [],
   "source": [
    "# setting up the dataset file path\n",
    "dataset_path: Path = Path().absolute()\n",
    "\n",
    "def read_dataset(file_path: Path) -> pd.DataFrame :\n",
    "    \"\"\"File to read in the Edmunds dataset that was scraped by the edmunds-scraper.py script\"\"\"\n",
    "    return pd.read_csv(file_path, header = 0, names = [\"username\", \"month_year\", \"post\"])"
   ]
  },
  {
   "cell_type": "code",
   "execution_count": 6,
   "metadata": {},
   "outputs": [],
   "source": [
    "edmunds = read_dataset(dataset_path / \"edmunds_extraction-2.csv\")"
   ]
  },
  {
   "cell_type": "code",
   "execution_count": 7,
   "metadata": {},
   "outputs": [
    {
     "name": "stdout",
     "output_type": "stream",
     "text": [
      "Number of user-generated posts in the dataset: 19749\n"
     ]
    }
   ],
   "source": [
    "print(f\"Number of user-generated posts in the dataset: {edmunds.shape[0]}\")"
   ]
  },
  {
   "cell_type": "code",
   "execution_count": 8,
   "metadata": {},
   "outputs": [],
   "source": [
    "# Reading in the brand-model mapping data\n",
    "models: pd.DataFrame = pd.read_csv(\"models.csv\", header = 0, names = [\"brand\", \"model\"])\n",
    "\n",
    "# some pre-processing removing any leading or trailing punctuations from the brand name and model columns\n",
    "models['brand'] = models['brand'].apply(lambda x: x.strip(punctuation))\n",
    "models['model'] = models['model'].apply(lambda x: x.strip(punctuation))\n"
   ]
  },
  {
   "cell_type": "markdown",
   "metadata": {},
   "source": [
    "## Creating a Model-Brand Map \n",
    "\n",
    "### Required since we will be replacing models with brands later"
   ]
  },
  {
   "cell_type": "code",
   "execution_count": 9,
   "metadata": {},
   "outputs": [],
   "source": [
    "# Creating a map of the model to the brand\n",
    "model_brand_dict: dict[str, str] = models.set_index('model')['brand'].to_dict()"
   ]
  },
  {
   "cell_type": "markdown",
   "metadata": {},
   "source": [
    "## Task A: Performing a frequency count to obtain the 10 most frequently mentioned brands"
   ]
  },
  {
   "cell_type": "code",
   "execution_count": 10,
   "metadata": {},
   "outputs": [],
   "source": [
    "# Getting the top 10 brands out of the existing dataset \n",
    "\n",
    "# getting all of the unique brand names into a list\n",
    "distinct_brands: list[str] = list(set(models['brand'].unique()) - set({'sedan', 'car', 'seat', 'problem'}))\n",
    "\n",
    "edmunds['post'] = edmunds['post'].apply(lambda x: x.lower())\n",
    "\n",
    "# store brand mentions in a new pandas data frame\n",
    "edmunds_brands: pd.DataFrame = pd.DataFrame(index = distinct_brands, columns = ['mentions'])\n",
    "\n",
    "edmunds_brands['mentions'] = 0\n",
    "\n",
    "for brand in distinct_brands:\n",
    "\n",
    "    edmunds_brands.at[brand, 'mentions'] = edmunds['post'].str.contains(brand, na = False).sum()\n",
    "\n",
    "top_10_brands: pd.DataFrame = edmunds_brands.sort_values(by = 'mentions', ascending = False)\n",
    "top_10_brands.reset_index(inplace = True)\n",
    "top_10_brands.drop_duplicates(subset = ['index', 'mentions'], inplace = True)\n",
    "top_10_brands = top_10_brands.head(10)"
   ]
  },
  {
   "cell_type": "code",
   "execution_count": 11,
   "metadata": {},
   "outputs": [
    {
     "data": {
      "text/html": [
       "<div>\n",
       "<style scoped>\n",
       "    .dataframe tbody tr th:only-of-type {\n",
       "        vertical-align: middle;\n",
       "    }\n",
       "\n",
       "    .dataframe tbody tr th {\n",
       "        vertical-align: top;\n",
       "    }\n",
       "\n",
       "    .dataframe thead th {\n",
       "        text-align: right;\n",
       "    }\n",
       "</style>\n",
       "<table border=\"1\" class=\"dataframe\">\n",
       "  <thead>\n",
       "    <tr style=\"text-align: right;\">\n",
       "      <th></th>\n",
       "      <th>index</th>\n",
       "      <th>mentions</th>\n",
       "    </tr>\n",
       "  </thead>\n",
       "  <tbody>\n",
       "    <tr>\n",
       "      <th>0</th>\n",
       "      <td>honda</td>\n",
       "      <td>2725</td>\n",
       "    </tr>\n",
       "    <tr>\n",
       "      <th>1</th>\n",
       "      <td>mazda</td>\n",
       "      <td>2649</td>\n",
       "    </tr>\n",
       "    <tr>\n",
       "      <th>2</th>\n",
       "      <td>ford</td>\n",
       "      <td>2624</td>\n",
       "    </tr>\n",
       "    <tr>\n",
       "      <th>3</th>\n",
       "      <td>toyota</td>\n",
       "      <td>1815</td>\n",
       "    </tr>\n",
       "    <tr>\n",
       "      <th>4</th>\n",
       "      <td>hyundai</td>\n",
       "      <td>1420</td>\n",
       "    </tr>\n",
       "    <tr>\n",
       "      <th>5</th>\n",
       "      <td>nissan</td>\n",
       "      <td>761</td>\n",
       "    </tr>\n",
       "    <tr>\n",
       "      <th>6</th>\n",
       "      <td>kia</td>\n",
       "      <td>636</td>\n",
       "    </tr>\n",
       "    <tr>\n",
       "      <th>7</th>\n",
       "      <td>chrysler</td>\n",
       "      <td>457</td>\n",
       "    </tr>\n",
       "    <tr>\n",
       "      <th>8</th>\n",
       "      <td>bmw</td>\n",
       "      <td>423</td>\n",
       "    </tr>\n",
       "    <tr>\n",
       "      <th>9</th>\n",
       "      <td>audi</td>\n",
       "      <td>384</td>\n",
       "    </tr>\n",
       "  </tbody>\n",
       "</table>\n",
       "</div>"
      ],
      "text/plain": [
       "      index  mentions\n",
       "0     honda      2725\n",
       "1     mazda      2649\n",
       "2      ford      2624\n",
       "3    toyota      1815\n",
       "4   hyundai      1420\n",
       "5    nissan       761\n",
       "6       kia       636\n",
       "7  chrysler       457\n",
       "8       bmw       423\n",
       "9      audi       384"
      ]
     },
     "execution_count": 11,
     "metadata": {},
     "output_type": "execute_result"
    }
   ],
   "source": [
    "# Preview of the top 10 brands\n",
    "top_10_brands"
   ]
  },
  {
   "cell_type": "code",
   "execution_count": 12,
   "metadata": {},
   "outputs": [
    {
     "data": {
      "image/png": "[encoded data removed]",
      "text/plain": [
       "<Figure size 1000x600 with 1 Axes>"
      ]
     },
     "metadata": {},
     "output_type": "display_data"
    }
   ],
   "source": [
    "# Plotting the frequency counts of the top 10 brands\n",
    "\n",
    "plt.figure(figsize=(10, 6))  # Adjust the figure size if needed\n",
    "sns.barplot(x='mentions', y='index', data = top_10_brands, orient='h')\n",
    "\n",
    "# Add labels and title\n",
    "plt.xlabel('Frequency Counts')\n",
    "plt.ylabel('Automobile Brand')\n",
    "plt.title('Frequency Counts for Automobile Brands')\n",
    "\n",
    "plt.show()\n"
   ]
  },
  {
   "cell_type": "markdown",
   "metadata": {},
   "source": [
    "## Replacing Models with Brands"
   ]
  },
  {
   "cell_type": "code",
   "execution_count": 13,
   "metadata": {},
   "outputs": [],
   "source": [
    "# Replacing models with brands\n",
    "\n",
    "# deleting these keys since they add zero value \n",
    "del model_brand_dict['cars']\n",
    "del model_brand_dict['seats']\n",
    "del model_brand_dict['sedans']\n",
    "del model_brand_dict['problems']\n",
    "\n",
    "# converting everything to lowercase to have uniformity across all dataframes\n",
    "model_brand_dict: dict = {key.lower(): value.lower() for key, value in model_brand_dict.items()}\n"
   ]
  },
  {
   "cell_type": "code",
   "execution_count": 14,
   "metadata": {},
   "outputs": [],
   "source": [
    "def replace_models_with_brands(post: str) -> str:\n",
    "\n",
    "    \"\"\"Function that replaces the occurrence of a model with its corresponding brand\"\"\"\n",
    "\n",
    "    words = post.split()\n",
    "\n",
    "    for index, word in enumerate(words):\n",
    "\n",
    "        if word in model_brand_dict:\n",
    "\n",
    "            words[index] = model_brand_dict[word]\n",
    "    \n",
    "    return ' '.join(words)"
   ]
  },
  {
   "cell_type": "code",
   "execution_count": 15,
   "metadata": {},
   "outputs": [],
   "source": [
    "# Replacing the models in the actual Edmunds data with the associated brand\n",
    "edmunds['post'] = edmunds['post'].apply(replace_models_with_brands)"
   ]
  },
  {
   "cell_type": "markdown",
   "metadata": {},
   "source": [
    "## Setting up a text pre-processor\n",
    "\n",
    "### Pre-Processing Steps Followed:\n",
    "- Conversion to lowercase\n",
    "- Removal of new line characters\n",
    "- Removal of any links\n",
    "- Expand any contractions in a given post to have its full form (with the dictionary initialized in the beginning)\n",
    "- Tokenization, Lemmatization and put back the lemmatized form of the string together\n",
    "- Remove any multiple whitespaces\n",
    "- Remove leading / trailing whitespaces"
   ]
  },
  {
   "cell_type": "code",
   "execution_count": 16,
   "metadata": {},
   "outputs": [],
   "source": [
    "# Setting up a dictionaries of possible contractions in the english language and then converting them to lower case via dict comprehension\n",
    "\n",
    "contraction_dict: dict[str, str] = {\n",
    "    \"aren't\": \"are not\",\n",
    "    \"can't\": \"cannot\",\n",
    "    \"couldn't\": \"could not\",\n",
    "    \"didn't\": \"did not\",\n",
    "    \"doesn't\": \"does not\",\n",
    "    \"don't\": \"do not\",\n",
    "    \"hadn't\": \"had not\",\n",
    "    \"hasn't\": \"has not\",\n",
    "    \"haven't\": \"have not\",\n",
    "    \"he's\": \"he is\",\n",
    "    \"I'll\": \"I will\",\n",
    "    \"I'm\": \"I am\",\n",
    "    \"I've\": \"I have\",\n",
    "    \"isn't\": \"is not\",\n",
    "    \"it's\": \"it is\",\n",
    "    \"let's\": \"let us\",\n",
    "    \"mustn't\": \"must not\",\n",
    "    \"shan't\": \"shall not\",\n",
    "    \"she's\": \"she is\",\n",
    "    \"shouldn't\": \"should not\",\n",
    "    \"that's\": \"that is\",\n",
    "    \"there's\": \"there is\",\n",
    "    \"they're\": \"they are\",\n",
    "    \"we're\": \"we are\",\n",
    "    \"weren't\": \"were not\",\n",
    "    \"won't\": \"will not\",\n",
    "    \"wouldn't\": \"would not\",\n",
    "    \"you're\": \"you are\",\n",
    "}\n",
    "\n",
    "contraction_dict = {key.lower(): value.lower() for key, value in contraction_dict.items()}"
   ]
  },
  {
   "cell_type": "code",
   "execution_count": 17,
   "metadata": {},
   "outputs": [],
   "source": [
    "def text_preprocessing(x):\n",
    "\n",
    "    lemmatizer = WordNetLemmatizer()\n",
    "\n",
    "    # convert everything to lowercase\n",
    "    x = x.lower()\n",
    "    # remove new line\n",
    "    x = re.sub(r'\\n', ' ', x)\n",
    "    # remove any links\n",
    "    x = re.sub(r\"https?://[^\\s]+\", \"\", x)\n",
    "    # expand any/all contractions\n",
    "    for contraction, expansion in contraction_dict.items():\n",
    "        x = x.replace(contraction, expansion)\n",
    "    # tokenization\n",
    "    tokens = word_tokenize(x)\n",
    "    # lemmatize and join back\n",
    "    x = ' '.join([lemmatizer.lemmatize(word) for word in tokens])\n",
    "    # remove multiple space\n",
    "    x = re.sub(r' +', ' ', x)\n",
    "    # remove space before and after the text\n",
    "    x = x.strip()\n",
    "\n",
    "    return x"
   ]
  },
  {
   "cell_type": "code",
   "execution_count": 18,
   "metadata": {},
   "outputs": [],
   "source": [
    "#  Creating a more memory efficient iterable than a Pandas series to hold all of the user-generated Edmunds posts\n",
    "all_posts: list[str] = edmunds['post'].tolist()"
   ]
  },
  {
   "cell_type": "code",
   "execution_count": 19,
   "metadata": {},
   "outputs": [],
   "source": [
    "# Initializing a vectorizer\n",
    "vectorizer = CountVectorizer(stop_words=list(stop_words.STOP_WORDS),\n",
    "                             preprocessor = text_preprocessing)"
   ]
  },
  {
   "cell_type": "code",
   "execution_count": 20,
   "metadata": {},
   "outputs": [
    {
     "name": "stderr",
     "output_type": "stream",
     "text": [
      "/opt/homebrew/lib/python3.11/site-packages/sklearn/feature_extraction/text.py:408: UserWarning: Your stop_words may be inconsistent with your preprocessing. Tokenizing the stop words generated tokens ['doe', 'ha', 'le', 'll', 've', 'wa'] not in stop_words.\n",
      "  warnings.warn(\n"
     ]
    }
   ],
   "source": [
    "dtm = vectorizer.fit_transform(all_posts)"
   ]
  },
  {
   "cell_type": "code",
   "execution_count": 21,
   "metadata": {},
   "outputs": [
    {
     "data": {
      "text/plain": [
       "<19749x28631 sparse matrix of type '<class 'numpy.int64'>'\n",
       "\twith 702035 stored elements in Compressed Sparse Row format>"
      ]
     },
     "execution_count": 21,
     "metadata": {},
     "output_type": "execute_result"
    }
   ],
   "source": [
    "dtm"
   ]
  },
  {
   "cell_type": "code",
   "execution_count": 22,
   "metadata": {},
   "outputs": [],
   "source": [
    "feature_names = vectorizer.get_feature_names_out()"
   ]
  },
  {
   "cell_type": "code",
   "execution_count": 23,
   "metadata": {},
   "outputs": [],
   "source": [
    "dtm_array = dtm.toarray()"
   ]
  },
  {
   "cell_type": "markdown",
   "metadata": {},
   "source": [
    "## Task A: Computing Lift between the top 10 Brands"
   ]
  },
  {
   "cell_type": "code",
   "execution_count": 24,
   "metadata": {},
   "outputs": [],
   "source": [
    "indices: list = [np.where(feature_names == brand)[0][0] for brand in top_10_brands['index'].tolist() if brand in feature_names]"
   ]
  },
  {
   "cell_type": "code",
   "execution_count": 25,
   "metadata": {},
   "outputs": [],
   "source": [
    "filtered_dtm_array = dtm_array[:, indices]"
   ]
  },
  {
   "cell_type": "code",
   "execution_count": 26,
   "metadata": {},
   "outputs": [],
   "source": [
    "term_lift = np.dot(filtered_dtm_array.T, filtered_dtm_array)\n",
    "term_occurrence = np.sum(filtered_dtm_array, axis = 0)"
   ]
  },
  {
   "cell_type": "code",
   "execution_count": 27,
   "metadata": {},
   "outputs": [],
   "source": [
    "lift_matrix = term_lift / (np.outer(term_occurrence, term_occurrence) + 1e-8)\n"
   ]
  },
  {
   "cell_type": "code",
   "execution_count": 28,
   "metadata": {},
   "outputs": [
    {
     "name": "stdout",
     "output_type": "stream",
     "text": [
      "Lift between honda and mazda: 0.0001\n",
      "Lift between honda and ford: 0.0001\n",
      "Lift between honda and toyota: 0.0001\n",
      "Lift between honda and hyundai: 0.0001\n",
      "Lift between honda and nissan: 0.0001\n",
      "Lift between honda and kia: 0.0001\n",
      "Lift between honda and chrysler: 0.0001\n",
      "Lift between honda and bmw: 0.0001\n",
      "Lift between honda and audi: 0.0001\n",
      "Lift between mazda and ford: 0.0001\n",
      "Lift between mazda and toyota: 0.0000\n",
      "Lift between mazda and hyundai: 0.0000\n",
      "Lift between mazda and nissan: 0.0001\n",
      "Lift between mazda and kia: 0.0001\n",
      "Lift between mazda and chrysler: 0.0001\n",
      "Lift between mazda and bmw: 0.0001\n",
      "Lift between mazda and audi: 0.0001\n",
      "Lift between ford and toyota: 0.0001\n",
      "Lift between ford and hyundai: 0.0001\n",
      "Lift between ford and nissan: 0.0001\n",
      "Lift between ford and kia: 0.0001\n",
      "Lift between ford and chrysler: 0.0001\n",
      "Lift between ford and bmw: 0.0000\n",
      "Lift between ford and audi: 0.0001\n",
      "Lift between toyota and hyundai: 0.0001\n",
      "Lift between toyota and nissan: 0.0001\n",
      "Lift between toyota and kia: 0.0001\n",
      "Lift between toyota and chrysler: 0.0001\n",
      "Lift between toyota and bmw: 0.0001\n",
      "Lift between toyota and audi: 0.0000\n",
      "Lift between hyundai and nissan: 0.0001\n",
      "Lift between hyundai and kia: 0.0002\n",
      "Lift between hyundai and chrysler: 0.0001\n",
      "Lift between hyundai and bmw: 0.0001\n",
      "Lift between hyundai and audi: 0.0001\n",
      "Lift between nissan and kia: 0.0001\n",
      "Lift between nissan and chrysler: 0.0001\n",
      "Lift between nissan and bmw: 0.0001\n",
      "Lift between nissan and audi: 0.0001\n",
      "Lift between kia and chrysler: 0.0001\n",
      "Lift between kia and bmw: 0.0000\n",
      "Lift between kia and audi: 0.0002\n",
      "Lift between chrysler and bmw: 0.0001\n",
      "Lift between chrysler and audi: 0.0001\n",
      "Lift between bmw and audi: 0.0006\n"
     ]
    }
   ],
   "source": [
    "for i, brand1 in enumerate(top_10_brands['index'].tolist()):\n",
    "    for j, brand2 in enumerate(top_10_brands['index'].tolist()):\n",
    "        if i < j:\n",
    "            print(f\"Lift between {brand1} and {brand2}: {lift_matrix[i, j]:.4f}\")"
   ]
  },
  {
   "cell_type": "code",
   "execution_count": 29,
   "metadata": {},
   "outputs": [],
   "source": [
    "dissimilarity_matrix = 1 / lift_matrix"
   ]
  },
  {
   "cell_type": "markdown",
   "metadata": {},
   "source": [
    "## Task A: Developing an MDS Plot"
   ]
  },
  {
   "cell_type": "code",
   "execution_count": 30,
   "metadata": {},
   "outputs": [
    {
     "name": "stderr",
     "output_type": "stream",
     "text": [
      "/opt/homebrew/lib/python3.11/site-packages/sklearn/manifold/_mds.py:298: FutureWarning: The default value of `normalized_stress` will change to `'auto'` in version 1.4. To suppress this warning, manually set the value of `normalized_stress`.\n",
      "  warnings.warn(\n"
     ]
    },
    {
     "data": {
      "image/png": "[encoded data removed]",
      "text/plain": [
       "<Figure size 640x480 with 1 Axes>"
      ]
     },
     "metadata": {},
     "output_type": "display_data"
    }
   ],
   "source": [
    "# Apply MDS to reduce dimensionality to 2D\n",
    "mds = MDS(n_components=2, dissimilarity='precomputed', random_state=42)\n",
    "mds_result = mds.fit_transform(dissimilarity_matrix)\n",
    "\n",
    "# Plot the MDS result\n",
    "plt.scatter(mds_result[:, 0], mds_result[:, 1])\n",
    "\n",
    "# Annotate points with brand names\n",
    "for i, brand in enumerate(top_10_brands['index'].tolist()):\n",
    "    if brand in feature_names:\n",
    "        plt.annotate(brand, (mds_result[i, 0], mds_result[i, 1]))\n",
    "\n",
    "plt.title('MDS Plot based on Lift for Top 10 Brands')\n",
    "plt.xlabel('MDS Dimension 1')\n",
    "plt.ylabel('MDS Dimension 2')\n",
    "plt.show()"
   ]
  },
  {
   "cell_type": "markdown",
   "metadata": {},
   "source": [
    "## Task C through E"
   ]
  },
  {
   "cell_type": "code",
   "execution_count": 31,
   "metadata": {},
   "outputs": [],
   "source": [
    "#   definining a dictionary to store some car-related attributes and possible terms\n",
    "\n",
    "car_attributes: dict[str, list[str]] = {\n",
    "    \"performance\": [\"pick-up\", \"acceleration\", \"speed\", \"handling\", \"power\", \"horsepower\", \"torque\", \"dynamics\"],\n",
    "    \"comfort\": [\"seats\", \"legroom\", \"ride\", \"interior\", \"spaciousness\", \"ergonomics\", \"cabin comfort\", \"seat comfort\"],\n",
    "    \"reliability\": [\"dependable\", \"durable\", \"long-lasting\", \"maintenance\", \"build quality\", \"longevity\"],\n",
    "    \"safety\": [\"airbags\", \"crash test\", \"safety features\", \"brakes\", \"collision avoidance\", \"lane assist\", \"blind spot\"],\n",
    "    \"efficiency\": [\"mileage\", \"fuel economy\", \"mpg\", \"fuel efficiency\", \"energy consumption\", \"emissions\"],\n",
    "    \"design\": [\"styling\", \"aesthetics\", \"look\", \"appearance\", \"body\", \"exterior\"],\n",
    "    \"technology\": [\"infotainment\", \"connectivity\", \"navigation\", \"bluetooth\", \"smart features\", \"voice control\"],\n",
    "    \"luxury\": [\"leather\", \"premium\", \"high-end\", \"exclusive\", \"refinement\", \"sophistication\"],\n",
    "    \"value\": [\"price\", \"cost-effective\", \"affordable\", \"economical\", \"worth\", \"budget-friendly\", \"cheap\", \"budget\"],\n",
    "    \"environmental impact\": [\"eco-friendly\", \"green\", \"sustainable\", \"low emissions\", \"electric\", \"hybrid\"]\n",
    "}\n"
   ]
  },
  {
   "cell_type": "code",
   "execution_count": 32,
   "metadata": {},
   "outputs": [],
   "source": [
    "attribute_counts = {attribute: 0 for attribute in car_attributes}\n",
    "\n",
    "for message in all_posts:\n",
    "    message_str = message.lower()\n",
    "    for attribute, synonyms in car_attributes.items():\n",
    "        if any(synonym in message_str for synonym in synonyms):\n",
    "            attribute_counts[attribute] += 1\n",
    "            \n",
    "top_5_attributes = sorted(attribute_counts.items(), key = lambda x: x[1], reverse=True)[:5]\n"
   ]
  },
  {
   "cell_type": "code",
   "execution_count": 33,
   "metadata": {},
   "outputs": [
    {
     "data": {
      "text/plain": [
       "[('design', 4780),\n",
       " ('performance', 3964),\n",
       " ('value', 3190),\n",
       " ('comfort', 2576),\n",
       " ('efficiency', 2447)]"
      ]
     },
     "execution_count": 33,
     "metadata": {},
     "output_type": "execute_result"
    }
   ],
   "source": [
    "top_5_attributes"
   ]
  },
  {
   "cell_type": "code",
   "execution_count": 36,
   "metadata": {},
   "outputs": [],
   "source": [
    "top_5_brands = top_10_brands.head(5)['index'].tolist()"
   ]
  },
  {
   "cell_type": "code",
   "execution_count": 37,
   "metadata": {},
   "outputs": [
    {
     "data": {
      "text/plain": [
       "['honda', 'mazda', 'ford', 'toyota', 'hyundai']"
      ]
     },
     "execution_count": 37,
     "metadata": {},
     "output_type": "execute_result"
    }
   ],
   "source": [
    "top_5_brands"
   ]
  },
  {
   "cell_type": "code",
   "execution_count": 42,
   "metadata": {},
   "outputs": [
    {
     "data": {
      "text/html": [
       "<div>\n",
       "<style scoped>\n",
       "    .dataframe tbody tr th:only-of-type {\n",
       "        vertical-align: middle;\n",
       "    }\n",
       "\n",
       "    .dataframe tbody tr th {\n",
       "        vertical-align: top;\n",
       "    }\n",
       "\n",
       "    .dataframe thead th {\n",
       "        text-align: right;\n",
       "    }\n",
       "</style>\n",
       "<table border=\"1\" class=\"dataframe\">\n",
       "  <thead>\n",
       "    <tr style=\"text-align: right;\">\n",
       "      <th></th>\n",
       "      <th>performance</th>\n",
       "      <th>comfort</th>\n",
       "      <th>reliability</th>\n",
       "      <th>safety</th>\n",
       "      <th>efficiency</th>\n",
       "      <th>design</th>\n",
       "      <th>technology</th>\n",
       "      <th>luxury</th>\n",
       "      <th>value</th>\n",
       "      <th>environmental impact</th>\n",
       "    </tr>\n",
       "  </thead>\n",
       "  <tbody>\n",
       "    <tr>\n",
       "      <th>honda</th>\n",
       "      <td>1478</td>\n",
       "      <td>1001</td>\n",
       "      <td>235</td>\n",
       "      <td>277</td>\n",
       "      <td>870</td>\n",
       "      <td>1668</td>\n",
       "      <td>110</td>\n",
       "      <td>410</td>\n",
       "      <td>1234</td>\n",
       "      <td>285</td>\n",
       "    </tr>\n",
       "    <tr>\n",
       "      <th>mazda</th>\n",
       "      <td>890</td>\n",
       "      <td>571</td>\n",
       "      <td>83</td>\n",
       "      <td>136</td>\n",
       "      <td>404</td>\n",
       "      <td>948</td>\n",
       "      <td>56</td>\n",
       "      <td>204</td>\n",
       "      <td>622</td>\n",
       "      <td>99</td>\n",
       "    </tr>\n",
       "    <tr>\n",
       "      <th>ford</th>\n",
       "      <td>1094</td>\n",
       "      <td>695</td>\n",
       "      <td>123</td>\n",
       "      <td>136</td>\n",
       "      <td>738</td>\n",
       "      <td>1289</td>\n",
       "      <td>72</td>\n",
       "      <td>305</td>\n",
       "      <td>857</td>\n",
       "      <td>393</td>\n",
       "    </tr>\n",
       "    <tr>\n",
       "      <th>toyota</th>\n",
       "      <td>882</td>\n",
       "      <td>726</td>\n",
       "      <td>132</td>\n",
       "      <td>137</td>\n",
       "      <td>538</td>\n",
       "      <td>1123</td>\n",
       "      <td>57</td>\n",
       "      <td>253</td>\n",
       "      <td>849</td>\n",
       "      <td>350</td>\n",
       "    </tr>\n",
       "    <tr>\n",
       "      <th>hyundai</th>\n",
       "      <td>674</td>\n",
       "      <td>643</td>\n",
       "      <td>77</td>\n",
       "      <td>105</td>\n",
       "      <td>419</td>\n",
       "      <td>1000</td>\n",
       "      <td>64</td>\n",
       "      <td>199</td>\n",
       "      <td>739</td>\n",
       "      <td>192</td>\n",
       "    </tr>\n",
       "  </tbody>\n",
       "</table>\n",
       "</div>"
      ],
      "text/plain": [
       "         performance  comfort  reliability  safety  efficiency  design  \\\n",
       "honda           1478     1001          235     277         870    1668   \n",
       "mazda            890      571           83     136         404     948   \n",
       "ford            1094      695          123     136         738    1289   \n",
       "toyota           882      726          132     137         538    1123   \n",
       "hyundai          674      643           77     105         419    1000   \n",
       "\n",
       "         technology  luxury  value  environmental impact  \n",
       "honda           110     410   1234                   285  \n",
       "mazda            56     204    622                    99  \n",
       "ford             72     305    857                   393  \n",
       "toyota           57     253    849                   350  \n",
       "hyundai          64     199    739                   192  "
      ]
     },
     "execution_count": 42,
     "metadata": {},
     "output_type": "execute_result"
    }
   ],
   "source": [
    "# Initialize brand_attribute_association with all attributes\n",
    "brand_attribute_association = {brand: {attribute: 0 for attribute in car_attributes} for brand in top_5_brands}\n",
    "\n",
    "# Count the occurrences of each attribute for each brand\n",
    "for message in all_posts:\n",
    "    message_str = message.lower()\n",
    "    for brand in top_5_brands:\n",
    "        if brand.lower() in message_str:\n",
    "            for attribute, synonyms in car_attributes.items():\n",
    "                if any(synonym in message_str for synonym in synonyms):\n",
    "                    brand_attribute_association[brand][attribute] += 1\n",
    "\n",
    "# Convert the nested dictionary into a DataFrame\n",
    "brand_attribute_df = pd.DataFrame(brand_attribute_association)\n",
    "\n",
    "# Transpose the DataFrame to get brands as rows and attributes as columns\n",
    "brand_attribute_df = brand_attribute_df.T\n",
    "\n",
    "# Display the DataFrame\n",
    "brand_attribute_df"
   ]
  },
  {
   "cell_type": "code",
   "execution_count": 43,
   "metadata": {},
   "outputs": [
    {
     "name": "stdout",
     "output_type": "stream",
     "text": [
      "For attribute 'Performance', the brand with the highest proportion is 'Mazda' with a proportion of 22.18%.\n",
      "For attribute 'Comfort', the brand with the highest proportion is 'Hyundai' with a proportion of 15.64%.\n",
      "For attribute 'Reliability', the brand with the highest proportion is 'Honda' with a proportion of 3.11%.\n",
      "For attribute 'Safety', the brand with the highest proportion is 'Honda' with a proportion of 3.66%.\n",
      "For attribute 'Efficiency', the brand with the highest proportion is 'Ford' with a proportion of 12.94%.\n",
      "For attribute 'Design', the brand with the highest proportion is 'Hyundai' with a proportion of 24.32%.\n",
      "For attribute 'Technology', the brand with the highest proportion is 'Hyundai' with a proportion of 1.56%.\n",
      "For attribute 'Luxury', the brand with the highest proportion is 'Honda' with a proportion of 5.42%.\n",
      "For attribute 'Value', the brand with the highest proportion is 'Hyundai' with a proportion of 17.97%.\n",
      "For attribute 'Environmental Impact', the brand with the highest proportion is 'Toyota' with a proportion of 6.93%.\n"
     ]
    }
   ],
   "source": [
    "# Initialize a dictionary to store the brand with the highest proportion for each attribute\n",
    "highest_proportions = {}\n",
    "\n",
    "# Iterate through the attributes in the DataFrame\n",
    "for attribute in brand_attribute_df.columns:\n",
    "    # Calculate the proportion for each brand and attribute\n",
    "    proportions = brand_attribute_df[attribute] / brand_attribute_df.sum(axis=1)\n",
    "    \n",
    "    # Find the brand with the highest proportion for the current attribute\n",
    "    brand_with_highest_proportion = proportions.idxmax()\n",
    "    \n",
    "    # Get the highest proportion value\n",
    "    highest_proportion = proportions.max()\n",
    "    \n",
    "    # Store the result in the dictionary\n",
    "    highest_proportions[attribute] = (brand_with_highest_proportion, highest_proportion)\n",
    "\n",
    "# Print the results\n",
    "for attribute, (brand, proportion) in highest_proportions.items():\n",
    "    print(f\"For attribute '{attribute.title()}', the brand with the highest proportion is '{brand.title()}' with a proportion of {proportion:.2%}.\")\n",
    "\n"
   ]
  },
  {
   "cell_type": "code",
   "execution_count": null,
   "metadata": {},
   "outputs": [],
   "source": []
  }
 ],
 "metadata": {
  "kernelspec": {
   "display_name": "Python 3",
   "language": "python",
   "name": "python3"
  },
  "language_info": {
   "codemirror_mode": {
    "name": "ipython",
    "version": 3
   },
   "file_extension": ".py",
   "mimetype": "text/x-python",
   "name": "python",
   "nbconvert_exporter": "python",
   "pygments_lexer": "ipython3",
   "version": "3.11.7"
  }
 },
 "nbformat": 4,
 "nbformat_minor": 2
}
