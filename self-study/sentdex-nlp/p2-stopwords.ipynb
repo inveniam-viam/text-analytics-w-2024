{
 "cells": [
  {
   "cell_type": "markdown",
   "metadata": {},
   "source": [
    "## What are stop words?\n",
    "\n",
    "NLTK isn't going to really generate any major insight. It will help you pull apart text, tag things etc.\n",
    "\n",
    "Stop words can be:\n",
    "- You come across the word, and you just stop.\n",
    "- Words that we don't really care about (such as a / the / an)"
   ]
  },
  {
   "cell_type": "code",
   "execution_count": 1,
   "metadata": {},
   "outputs": [],
   "source": [
    "from nltk.corpus import stopwords\n",
    "from nltk.tokenize import word_tokenize"
   ]
  },
  {
   "cell_type": "code",
   "execution_count": 2,
   "metadata": {},
   "outputs": [],
   "source": [
    "example_sentence: str = \"This is an example showing off stop word filtration.\""
   ]
  },
  {
   "cell_type": "code",
   "execution_count": 4,
   "metadata": {},
   "outputs": [],
   "source": [
    "# loading a readily available NLTK stop words set for the english language\n",
    "stop_words: set = set(stopwords.words(\"english\"))"
   ]
  },
  {
   "cell_type": "code",
   "execution_count": 5,
   "metadata": {},
   "outputs": [
    {
     "name": "stdout",
     "output_type": "stream",
     "text": [
      "{'an', 'having', 'am', 'is', 'after', 'just', 'to', 'him', \"haven't\", 'if', 'where', 'you', 'was', 'as', \"you're\", 'of', 'with', 'himself', 'why', 'these', 'that', 'each', 'doesn', 'were', 'down', 'don', 'y', 'ain', 'its', 'themselves', 'it', 'can', 'should', 'has', 're', 'yours', \"should've\", 'under', 'about', 'how', 'have', 'into', 'through', 'wasn', 'her', 'above', \"that'll\", \"don't\", 'few', 'our', 'this', \"wasn't\", 'needn', 'he', 'in', 'ourselves', 'she', 'won', 'd', \"aren't\", 'all', 'yourself', 'so', 'a', 'myself', 'while', 's', 've', 'up', 'had', \"shouldn't\", 'my', 'ours', \"you'd\", 'against', 'shouldn', 'mustn', 'here', 'herself', 'until', \"it's\", 'haven', \"doesn't\", 'ma', 'when', 'who', 'at', 'they', 'on', \"won't\", 'once', 'before', 'aren', 'your', 'couldn', \"mightn't\", 'but', 'isn', 'hasn', 'or', 'again', 'i', 'nor', 'out', \"needn't\", 'below', 'same', 'and', 'by', \"you've\", \"hadn't\", 'm', \"hasn't\", 'over', 'very', 'what', 'shan', 'been', 'too', 'other', 'll', \"didn't\", 'hers', 'now', 'most', 'does', \"couldn't\", 'any', 'more', \"you'll\", 'between', 'not', 'the', \"isn't\", \"weren't\", 'off', 'be', 'me', 'wouldn', 'both', 'then', 'yourselves', 'them', 'than', 'further', 'such', 'weren', 'theirs', 'his', \"she's\", 'being', 'for', 'because', \"wouldn't\", 'during', 'hadn', 'from', 'their', 'own', 'didn', 'itself', 'there', \"mustn't\", 'are', 'mightn', 't', 'o', 'only', 'those', 'did', \"shan't\", 'do', 'which', 'will', 'we', 'whom', 'no', 'doing', 'some'}\n"
     ]
    }
   ],
   "source": [
    "print(stop_words)"
   ]
  },
  {
   "cell_type": "code",
   "execution_count": 8,
   "metadata": {},
   "outputs": [],
   "source": [
    "words: list[str] = word_tokenize(example_sentence)"
   ]
  },
  {
   "cell_type": "code",
   "execution_count": 7,
   "metadata": {},
   "outputs": [
    {
     "data": {
      "text/plain": [
       "['This',\n",
       " 'is',\n",
       " 'an',\n",
       " 'example',\n",
       " 'showing',\n",
       " 'off',\n",
       " 'stop',\n",
       " 'word',\n",
       " 'filtration',\n",
       " '.']"
      ]
     },
     "execution_count": 7,
     "metadata": {},
     "output_type": "execute_result"
    }
   ],
   "source": [
    "words"
   ]
  },
  {
   "cell_type": "code",
   "execution_count": 9,
   "metadata": {},
   "outputs": [],
   "source": [
    "filtered_sentence = []\n",
    "\n",
    "for word in words:\n",
    "\n",
    "    if word not in stop_words:\n",
    "\n",
    "        filtered_sentence.append(word)"
   ]
  },
  {
   "cell_type": "code",
   "execution_count": 10,
   "metadata": {},
   "outputs": [
    {
     "data": {
      "text/plain": [
       "['This', 'example', 'showing', 'stop', 'word', 'filtration', '.']"
      ]
     },
     "execution_count": 10,
     "metadata": {},
     "output_type": "execute_result"
    }
   ],
   "source": [
    "filtered_sentence"
   ]
  },
  {
   "cell_type": "code",
   "execution_count": 16,
   "metadata": {},
   "outputs": [],
   "source": [
    "# in list comprehension form\n",
    "filtered = [word for word in words if not word in stop_words]"
   ]
  },
  {
   "cell_type": "code",
   "execution_count": 17,
   "metadata": {},
   "outputs": [
    {
     "name": "stdout",
     "output_type": "stream",
     "text": [
      "['This', 'example', 'showing', 'stop', 'word', 'filtration', '.']\n"
     ]
    }
   ],
   "source": [
    "print(filtered)"
   ]
  },
  {
   "cell_type": "code",
   "execution_count": null,
   "metadata": {},
   "outputs": [],
   "source": []
  }
 ],
 "metadata": {
  "kernelspec": {
   "display_name": "Python 3",
   "language": "python",
   "name": "python3"
  },
  "language_info": {
   "codemirror_mode": {
    "name": "ipython",
    "version": 3
   },
   "file_extension": ".py",
   "mimetype": "text/x-python",
   "name": "python",
   "nbconvert_exporter": "python",
   "pygments_lexer": "ipython3",
   "version": "3.11.7"
  }
 },
 "nbformat": 4,
 "nbformat_minor": 2
}
