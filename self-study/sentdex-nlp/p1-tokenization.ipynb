{
 "cells": [
  {
   "cell_type": "code",
   "execution_count": 1,
   "metadata": {},
   "outputs": [],
   "source": [
    "# Natural Language Processing (NLP) is the process by which we can enable\n",
    "# computers to read and understand natural language (usually written language)\n",
    "\n",
    "# Importing NLTK\n",
    "\n",
    "import nltk"
   ]
  },
  {
   "cell_type": "markdown",
   "metadata": {},
   "source": [
    "### Tokenizing Words and Sentences\n",
    "\n",
    "Tokenizing - Form of grouping things\n",
    "\n",
    "Generally, there will be two kinds of tokenizers:\n",
    "- Word tokenizers (separates by words)\n",
    "- Sentence tokenizers (separates by sentences)\n",
    "\n",
    "Corpora: A body of text. Example: medical journals, presidential speeches etc.\n",
    "\n",
    "Anything in the English language is a corpora.\n",
    "\n",
    "Lexicon - Think of it like a dictionary; words and meanings.\n",
    "\n",
    "For the english language, this could be like the english dictionary.\n",
    "\n",
    "However, consider the difference between investor-speak and regular-speak.\n",
    "\n",
    "In investor speak, \"bull\" : someone who is positive about the market.\n",
    "\n",
    "In regular speak, \"bull\": scary animal that you don't want running at you."
   ]
  },
  {
   "cell_type": "markdown",
   "metadata": {},
   "source": []
  },
  {
   "cell_type": "code",
   "execution_count": 4,
   "metadata": {},
   "outputs": [],
   "source": [
    "from nltk.tokenize import sent_tokenize, word_tokenize"
   ]
  },
  {
   "cell_type": "code",
   "execution_count": 14,
   "metadata": {},
   "outputs": [],
   "source": [
    "example_text: str = \"Hello Mr. Smith, how are you doing today? The weather is great and Python is awesome. The sky is pinkish-blue. You should not eat cardboard.\"\n",
    "\n",
    "# Separating a sentence into words - one would think of splitting the sentence by using the split() function\n",
    "\n",
    "# How about separating sentences? Punctuation followed by a space and then a capital letter is a good guess\n",
    "\n",
    "# What if there was a sentence like \"Hello Mr. Smith, how....\"\n",
    "\n",
    "# In the above case, Mr. Smith would cause a new sentence when that's not the case\n",
    "\n",
    "# This is why, use NLTK\n",
    "\n"
   ]
  },
  {
   "cell_type": "code",
   "execution_count": 15,
   "metadata": {},
   "outputs": [
    {
     "name": "stdout",
     "output_type": "stream",
     "text": [
      "['Hello Mr. Smith, how are you doing today?', 'The weather is great and Python is awesome.', 'The sky is pinkish-blue.', 'You should not eat cardboard.']\n"
     ]
    }
   ],
   "source": [
    "# Tokenizing by sentence\n",
    "print(sent_tokenize(example_text))"
   ]
  },
  {
   "cell_type": "code",
   "execution_count": 16,
   "metadata": {},
   "outputs": [
    {
     "name": "stdout",
     "output_type": "stream",
     "text": [
      "['Hello', 'Mr.', 'Smith', ',', 'how', 'are', 'you', 'doing', 'today', '?', 'The', 'weather', 'is', 'great', 'and', 'Python', 'is', 'awesome', '.', 'The', 'sky', 'is', 'pinkish-blue', '.', 'You', 'should', 'not', 'eat', 'cardboard', '.']\n"
     ]
    }
   ],
   "source": [
    "# Tokenizing by word\n",
    "print(word_tokenize(example_text))"
   ]
  },
  {
   "cell_type": "code",
   "execution_count": 19,
   "metadata": {},
   "outputs": [
    {
     "name": "stdout",
     "output_type": "stream",
     "text": [
      "Hello\n",
      "Mr.\n",
      "Smith\n",
      ",\n",
      "how\n",
      "are\n",
      "you\n",
      "doing\n",
      "today\n",
      "?\n",
      "The\n",
      "weather\n",
      "is\n",
      "great\n",
      "and\n",
      "Python\n",
      "is\n",
      "awesome\n",
      ".\n",
      "The\n",
      "sky\n",
      "is\n",
      "pinkish-blue\n",
      ".\n",
      "You\n",
      "should\n",
      "not\n",
      "eat\n",
      "cardboard\n",
      ".\n"
     ]
    }
   ],
   "source": [
    "# Tokenizer output is usually a list and supports common list operations\n",
    "for word in word_tokenize(example_text):\n",
    "\n",
    "    print(word)"
   ]
  },
  {
   "cell_type": "code",
   "execution_count": null,
   "metadata": {},
   "outputs": [],
   "source": []
  }
 ],
 "metadata": {
  "kernelspec": {
   "display_name": "Python 3",
   "language": "python",
   "name": "python3"
  },
  "language_info": {
   "codemirror_mode": {
    "name": "ipython",
    "version": 3
   },
   "file_extension": ".py",
   "mimetype": "text/x-python",
   "name": "python",
   "nbconvert_exporter": "python",
   "pygments_lexer": "ipython3",
   "version": "3.11.7"
  }
 },
 "nbformat": 4,
 "nbformat_minor": 2
}
